{
 "cells": [
  {
   "cell_type": "code",
   "execution_count": null,
   "id": "f0e63eda",
   "metadata": {},
   "outputs": [],
   "source": [
    "import scipy.io as spio\n",
    "from scipy.sparse.csgraph import shortest_path\n",
    "import matplotlib.pyplot as plt\n",
    "import matplotlib.image as Image\n",
    "from matplotlib.offsetbox import OffsetImage, AnnotationBbox\n",
    "import random as rand \n",
    "import numpy as np\n",
    "import networkx as nx\n",
    "import pandas as pd\n",
    "import math\n",
    "from PIL import Image\n",
    "\n"
   ]
  },
  {
   "cell_type": "markdown",
   "id": "de3ee3fe",
   "metadata": {},
   "source": [
    "## Order of faces using ISOMAP"
   ]
  },
  {
   "cell_type": "code",
   "execution_count": null,
   "id": "0aa78949",
   "metadata": {},
   "outputs": [],
   "source": [
    "## load data\n",
    "image_load = spio.loadmat('data/isomap.mat', squeeze_me=True)\n",
    "image = image_load['images'].T\n",
    "m, n = image.shape\n"
   ]
  },
  {
   "cell_type": "markdown",
   "id": "cc042ce8",
   "metadata": {},
   "source": [
    "Step 1: build a weighted graph A using nearest neighbors"
   ]
  },
  {
   "cell_type": "code",
   "execution_count": null,
   "id": "d4d97786",
   "metadata": {},
   "outputs": [],
   "source": [
    "## Build Adjacent matrix with multiple tuning parameters\n",
    "epsilon = [5,10,15,20,25,30,35,40]\n",
    "#epsilon = [10, 12, 14, 16, 18, 20, 22, 24, 28]\n",
    "\n",
    "A = np.zeros(shape = (m,m))\n",
    "matrixsum = pd.DataFrame(columns = (\"epsilon\", \"matrix sum\"))\n",
    "for e in epsilon:\n",
    "    for i in range(m):\n",
    "        for j in range(m):\n",
    "            distance = np.linalg.norm(image[i]-image[j], ord=2) # $\\|x^i-x^j\\|$\n",
    "            A[i,j] = distance\n",
    "            if distance <=e:\n",
    "                A[i,j] = distance\n",
    "            else:\n",
    "                A[i,j] = 0\n",
    "    D = shortest_path(A)\n",
    "    matrixsum.loc[len(matrixsum.index)] = e, D.sum()"
   ]
  },
  {
   "cell_type": "code",
   "execution_count": null,
   "id": "d4848952",
   "metadata": {},
   "outputs": [],
   "source": [
    "matrix_sum = matrixsum.set_index(\"epsilon\")\n",
    "matrix_sum.plot()\n",
    "plt.savefig('images/matrixelbow_large.png')"
   ]
  },
  {
   "cell_type": "code",
   "execution_count": null,
   "id": "dec7ea2a",
   "metadata": {},
   "outputs": [],
   "source": [
    "## adjacency matrix with e=16\n",
    "\n",
    "A = np.zeros(shape = (m,m))\n",
    "matrixsum = pd.DataFrame(columns = (\"epsilon\", \"matrix sum\"))\n",
    "for e in epsilon:\n",
    "    for i in range(m):\n",
    "        for j in range(m):\n",
    "            distance = np.linalg.norm(image[i]-image[j]) # $\\|x^i-x^j\\|$\n",
    "            A[i,j] = distance\n",
    "            if distance <=16:\n",
    "                A[i,j] = distance\n",
    "            else:\n",
    "                A[i,j] = 0\n"
   ]
  },
  {
   "cell_type": "markdown",
   "id": "2fe1b60f",
   "metadata": {},
   "source": [
    "ISOMAP algorithm"
   ]
  },
  {
   "cell_type": "code",
   "execution_count": null,
   "id": "f5c51b2b",
   "metadata": {},
   "outputs": [],
   "source": [
    "epsilon = [12, 14, 16, 18, 20, 22]\n",
    "\n",
    "for e in epsilon:\n",
    "## import image\n",
    "    image_load = spio.loadmat('data/isomap.mat', squeeze_me=True)\n",
    "    image = image_load['images'].T\n",
    "    m, n = image.shape\n",
    "    \n",
    "## Step 1: Build adjacency matrix\n",
    "    A = np.zeros(shape = (m,m))\n",
    "    for i in range(m):\n",
    "        for j in range(m):\n",
    "            distance = np.linalg.norm(image[i]-image[j]) # $\\|x^i-x^j\\|$\n",
    "            A[i,j] = distance\n",
    "            if distance <=e:\n",
    "                A[i,j] = distance\n",
    "            else:\n",
    "                A[i,j] = 0\n",
    "\n",
    "## Step 2: compute pairwise shortest distance matrix D\n",
    "    D = shortest_path(A)\n",
    "    \n",
    "## Step 3: Use Centering Matrix H to get C\n",
    "    I = np.identity(m)\n",
    "    one_matrix = np.ones(shape = 698)\n",
    "    H = I - (1/m) * np.outer(one_matrix, one_matrix.T)\n",
    "    C = (-1/2) * np.linalg.multi_dot([H, D**2, H])\n",
    "\n",
    "## Step 4: Compute leading eigenvectors and eigenvalues\n",
    "    # compute eigenvalues\n",
    "    U, sigma, VT = np.linalg.svd(C)\n",
    "\n",
    "    # Extract first 2 eigenvectors\n",
    "    dim_1 = U[:,0]*np.sqrt(sigma[0])\n",
    "    dim_2 = U[:,1]*np.sqrt(sigma[1])\n",
    "    \n",
    "## Graph results\n",
    "    fig, ax = plt.subplots(figsize=(10, 10))\n",
    "    ax.scatter(dim_1, dim_2)\n",
    "    \n",
    "## with images\n",
    "## https://fcpython.com/visualisation/creating-scatter-plots-with-club-logos-in-python\n",
    "## https://www.programcreek.com/python/example/102442/matplotlib.offsetbox.OffsetImage\n",
    "\n",
    "    # select random\n",
    "    sample = rand.sample(range(m), int(m/15))\n",
    "\n",
    "    for i_img in sample:\n",
    "        img_disp = np.reshape(image[i_img,:], (64,64)).T\n",
    "        \n",
    "        ab = AnnotationBbox(OffsetImage(img_disp, cmap=plt.cm.gray_r, zoom=0.5), (dim_1[i_img], dim_2[i_img]), pad=0, frameon=True)\n",
    "        ax.add_artist(ab)\n",
    "        ax.scatter(dim_1, dim_2)\n",
    "    \n",
    "    # https://matplotlib.org/stable/api/_as_gen/matplotlib.pyplot.savefig.html\n",
    "    fig.savefig('images/face_epsilon_'+str(e)+'.png')"
   ]
  },
  {
   "cell_type": "code",
   "execution_count": null,
   "id": "7949fedc",
   "metadata": {},
   "outputs": [],
   "source": [
    "PCA Analysis"
   ]
  },
  {
   "cell_type": "code",
   "execution_count": null,
   "id": "60cc2619",
   "metadata": {},
   "outputs": [],
   "source": [
    "image_mean = np.mean(image, axis=0)\n",
    "\n",
    "X = image.T - image_mean[:,None] ## Calculate Mean Center\n",
    "\n",
    "# Find SVD\n",
    "U, Sigma, VT = np.linalg.svd(X)\n",
    "\n",
    "# Find dimensions\n",
    "dim_1 = np.dot(U[:,0].T,X)/np.sqrt(Sigma[0])\n",
    "dim_2 = np.dot(U[:,1].T,X)/np.sqrt(Sigma[1])\n",
    "\n",
    "k_approx = 2 # number of components\n",
    "\n",
    "# Plot the components of the first k_approx=2 singular vectors\n",
    "fig, ax = plt.subplots(figsize=(10, 10))\n",
    "ax.scatter(dim_1, dim_2)\n",
    "\n",
    "\n",
    "sample = rand.sample(range(m), int(m/15))\n",
    "\n",
    "for i_img in sample:\n",
    "    img_disp = np.reshape(image[i_img,:], (64,64)).T\n",
    "\n",
    "    ab = AnnotationBbox(OffsetImage(img_disp, cmap=plt.cm.gray_r, zoom=0.5), (dim_1[i_img], dim_2[i_img]), pad=0, frameon=True)\n",
    "    ax.add_artist(ab)\n",
    "    ax.scatter(dim_1, dim_2)\n",
    "    \n",
    "fig.savefig('images/face_PCA.png')"
   ]
  },
  {
   "cell_type": "markdown",
   "id": "3e79917d",
   "metadata": {},
   "source": [
    "## Eigenfaces and simple face recognition"
   ]
  },
  {
   "cell_type": "markdown",
   "id": "689efe66",
   "metadata": {},
   "source": [
    "(a) Perform analysis on the Yale face dataset"
   ]
  },
  {
   "cell_type": "code",
   "execution_count": 2,
   "id": "4713adc2",
   "metadata": {},
   "outputs": [],
   "source": [
    "pic_path_01 = ['data/yalefaces/subject01.glasses.gif',\n",
    "              'data/yalefaces/subject01.happy.gif',\n",
    "              'data/yalefaces/subject01.leftlight.gif',\n",
    "              'data/yalefaces/subject01.noglasses.gif',\n",
    "              'data/yalefaces/subject01.normal.gif',\n",
    "              'data/yalefaces/subject01.rightlight.gif',\n",
    "              'data/yalefaces/subject01.sad.gif',\n",
    "              'data/yalefaces/subject01.sleepy.gif',\n",
    "              'data/yalefaces/subject01.surprised.gif',\n",
    "               'data/yalefaces/subject01.wink.gif']\n",
    "pic_path_02 = ['data/yalefaces/subject02.glasses.gif',\n",
    "              'data/yalefaces/subject02.happy.gif',\n",
    "              'data/yalefaces/subject02.leftlight.gif',\n",
    "              'data/yalefaces/subject02.noglasses.gif',\n",
    "              'data/yalefaces/subject02.normal.gif',\n",
    "              'data/yalefaces/subject02.rightlight.gif',\n",
    "              'data/yalefaces/subject02.sad.gif',\n",
    "              'data/yalefaces/subject02.sleepy.gif',\n",
    "              'data/yalefaces/subject02.wink.gif']\n",
    "\n",
    "def read_img(path):\n",
    "\n",
    "    img = Image.open(path)\n",
    "    new_image = img.resize((500, 500))"
   ]
  },
  {
   "cell_type": "markdown",
   "id": "f433b477",
   "metadata": {},
   "source": [
    "#### (a)"
   ]
  },
  {
   "cell_type": "code",
   "execution_count": 3,
   "id": "b8fed362",
   "metadata": {},
   "outputs": [],
   "source": [
    "pictures = [pic_path_02]\n",
    "\n",
    "def pca_image(picture_list, S):\n",
    "\n",
    "    S01 = np.empty(shape = [10, 4800])\n",
    "## read in images to np array\n",
    "    for pic in picture_list:\n",
    "        for i, i_pic in enumerate(pic):\n",
    "            image = Image.open(i_pic)\n",
    "            a, b = image.size\n",
    "            image2 = image.resize((int(a/4), int(b/4)))\n",
    "            c, d = image2.size\n",
    "            vector_image = np.array(image2, dtype = 'int32').flatten()\n",
    "            S01[i] = vector_image\n",
    "\n",
    "## Calculate Mean Center\n",
    "    S01_mean = np.mean(S01, axis=0)\n",
    "    X_S01 = S01 - S01_mean \n",
    "\n",
    "    # Find SVD\n",
    "    U, sigma, VT = np.linalg.svd(X_S01.T)\n",
    "\n",
    "    k = 6 # number of components\n",
    "    # plot each face\n",
    "    for i in range(k):\n",
    "        image_final = U[i,:].reshape((int(b/4),int(a/4)))\n",
    "       # plt.imsave((S +str(i)+'.png'),image_final, cmap = 'gray')\n",
    "    return (U[:,0:6], S01_mean)\n",
    "\n"
   ]
  },
  {
   "cell_type": "markdown",
   "id": "30f49abf",
   "metadata": {
    "scrolled": true
   },
   "source": [
    "#### (b)"
   ]
  },
  {
   "cell_type": "code",
   "execution_count": 76,
   "id": "53bfdcde",
   "metadata": {},
   "outputs": [],
   "source": [
    "## top eigenvalues and means for each subject\n",
    "s1_eigen, s1_mean = pca_image([pic_path_01], \"images/face01_\")\n",
    "s2_eigen, s2_mean = pca_image([pic_path_02], \"images/face02_\")"
   ]
  },
  {
   "cell_type": "code",
   "execution_count": 5,
   "id": "d955c15f",
   "metadata": {},
   "outputs": [],
   "source": [
    "test_paths = ['data/yalefaces/subject01-test.gif','data/yalefaces/subject02-test.gif']    \n",
    "\n",
    "test_pics = []\n",
    "for path in test_paths:\n",
    "    image = Image.open(path)\n",
    "    a, b = image.size\n",
    "    image2 = image.resize((int(a/4), int(b/4)))\n",
    "    c, d = image2.size\n",
    "    vector_image = np.array(image2, dtype = 'int32').flatten()\n",
    "    test_pics.append(vector_image)\n",
    "\n",
    "s1_test_a = test_pics[0]\n",
    "s2_test_a = test_pics[1]"
   ]
  },
  {
   "cell_type": "code",
   "execution_count": 101,
   "id": "294f8031",
   "metadata": {},
   "outputs": [],
   "source": [
    "s1_test_mean = np.mean(s1_test_a, axis=0)\n",
    "s1_test = s1_test_a - s1_test_mean\n",
    "\n",
    "s2_test_mean = np.mean(s2_test_a, axis=0)\n",
    "s2_test = s2_test_a - s2_test_mean"
   ]
  },
  {
   "cell_type": "code",
   "execution_count": 125,
   "id": "0b6606ad",
   "metadata": {},
   "outputs": [],
   "source": [
    "def face_rec(subject, eigen, pc):\n",
    "    norm=0\n",
    "    for i in range(pc):\n",
    "        a = eigen[:,i]\n",
    "        b = np.linalg.norm(subject - a*(np.dot(a, subject)))**2\n",
    "        norm+=b\n",
    "    return norm/pc"
   ]
  },
  {
   "cell_type": "code",
   "execution_count": 131,
   "id": "594ab95b",
   "metadata": {},
   "outputs": [
    {
     "name": "stdout",
     "output_type": "stream",
     "text": [
      "\\begin{tabular}{lrrrlrrl}\n",
      "\\toprule\n",
      " & PC & s11 & s21 & Subject01 Correct & s22 & s12 & Subject02 Correct \\\\\n",
      "\\midrule\n",
      "0 & 1 & 30805641 & 34716020 & Yes & 24357243 & 23102451 & No \\\\\n",
      "1 & 2 & 32006634 & 32938313 & Yes & 29800564 & 28193454 & No \\\\\n",
      "2 & 3 & 32315234 & 33637741 & Yes & 29317829 & 29507685 & Yes \\\\\n",
      "3 & 4 & 32615887 & 33993706 & Yes & 30440191 & 30506183 & Yes \\\\\n",
      "4 & 5 & 32566797 & 34273402 & Yes & 31429445 & 31107151 & No \\\\\n",
      "5 & 6 & 32666958 & 34473786 & Yes & 32023531 & 31472330 & No \\\\\n",
      "\\bottomrule\n",
      "\\end{tabular}\n",
      "\n"
     ]
    }
   ],
   "source": [
    "import pandas as pd\n",
    "\n",
    "df = pd.DataFrame(columns = ('PC', \"s11\", \"s21\", \"Subject01 Correct\", \"s22\", \"s12\", \"Subject02 Correct\"))\n",
    "\n",
    "for i in range(1,7):\n",
    "    s11 = round(face_rec(s1_test, s1_eigen, i))\n",
    "    s21 = round(face_rec(s2_test, s1_eigen, i))\n",
    "\n",
    "    s12 = round(face_rec(s1_test, s2_eigen, i))\n",
    "    s22 = round(face_rec(s2_test, s2_eigen, i))\n",
    "    \n",
    "    if s11 <= s21:\n",
    "        s1 = \"Yes\"\n",
    "    else:\n",
    "        s1 = \"No\"\n",
    "    if s22 <= s12:   \n",
    "        s2 = \"Yes\"\n",
    "    else:\n",
    "        s2 = \"No\"\n",
    "    \n",
    "    df.loc[len(df.index)] = i, s11, s21, s1, s22, s12, s2\n",
    "\n",
    "print(df.to_latex())"
   ]
  }
 ],
 "metadata": {
  "kernelspec": {
   "display_name": "Python 3 (ipykernel)",
   "language": "python",
   "name": "python3"
  },
  "language_info": {
   "codemirror_mode": {
    "name": "ipython",
    "version": 3
   },
   "file_extension": ".py",
   "mimetype": "text/x-python",
   "name": "python",
   "nbconvert_exporter": "python",
   "pygments_lexer": "ipython3",
   "version": "3.10.6"
  }
 },
 "nbformat": 4,
 "nbformat_minor": 5
}
